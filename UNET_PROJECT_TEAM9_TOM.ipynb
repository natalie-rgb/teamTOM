{
  "nbformat": 4,
  "nbformat_minor": 0,
  "metadata": {
    "colab": {
      "name": "UNET_PROJECT_TEAM9_TOM",
      "provenance": [],
      "collapsed_sections": [],
      "toc_visible": true,
      "include_colab_link": true
    },
    "kernelspec": {
      "name": "python3",
      "display_name": "Python 3"
    },
    "accelerator": "GPU"
  },
  "cells": [
    {
      "cell_type": "markdown",
      "metadata": {
        "id": "view-in-github",
        "colab_type": "text"
      },
      "source": [
        "<a href=\"https://colab.research.google.com/github/natalie-rgb/teamTOM/blob/master/UNET_PROJECT_TEAM9_TOM.ipynb\" target=\"_parent\"><img src=\"https://colab.research.google.com/assets/colab-badge.svg\" alt=\"Open In Colab\"/></a>"
      ]
    },
    {
      "cell_type": "markdown",
      "metadata": {
        "id": "kdWpeoTvf_9h",
        "colab_type": "text"
      },
      "source": [
        "Getting data from github repository"
      ]
    },
    {
      "cell_type": "code",
      "metadata": {
        "id": "9sTvUuC0b54c",
        "colab_type": "code",
        "colab": {
          "base_uri": "https://localhost:8080/",
          "height": 832
        },
        "outputId": "d7be1eb2-a48f-464e-c0f1-04a614bf26bb"
      },
      "source": [
        "! curl -s https://packagecloud.io/install/repositories/github/git-lfs/script.deb.sh | sudo bash\n",
        "! sudo apt-get install git-lfs\n",
        "! git lfs install\n",
        "! git clone https://github.com/neheller/kits19.git"
      ],
      "execution_count": null,
      "outputs": [
        {
          "output_type": "stream",
          "text": [
            "Detected operating system as Ubuntu/bionic.\n",
            "Checking for curl...\n",
            "Detected curl...\n",
            "Checking for gpg...\n",
            "Detected gpg...\n",
            "Running apt-get update... done.\n",
            "Installing apt-transport-https... done.\n",
            "Installing /etc/apt/sources.list.d/github_git-lfs.list...done.\n",
            "Importing packagecloud gpg key... done.\n",
            "Running apt-get update... done.\n",
            "\n",
            "The repository is setup! You can now install packages.\n",
            "Reading package lists... Done\n",
            "Building dependency tree       \n",
            "Reading state information... Done\n",
            "The following package was automatically installed and is no longer required:\n",
            "  libnvidia-common-440\n",
            "Use 'sudo apt autoremove' to remove it.\n",
            "The following NEW packages will be installed:\n",
            "  git-lfs\n",
            "0 upgraded, 1 newly installed, 0 to remove and 51 not upgraded.\n",
            "Need to get 6,877 kB of archives.\n",
            "After this operation, 16.4 MB of additional disk space will be used.\n",
            "Get:1 https://packagecloud.io/github/git-lfs/ubuntu bionic/main amd64 git-lfs amd64 2.11.0 [6,877 kB]\n",
            "Fetched 6,877 kB in 1s (8,576 kB/s)\n",
            "debconf: unable to initialize frontend: Dialog\n",
            "debconf: (No usable dialog-like program is installed, so the dialog based frontend cannot be used. at /usr/share/perl5/Debconf/FrontEnd/Dialog.pm line 76, <> line 1.)\n",
            "debconf: falling back to frontend: Readline\n",
            "debconf: unable to initialize frontend: Readline\n",
            "debconf: (This frontend requires a controlling tty.)\n",
            "debconf: falling back to frontend: Teletype\n",
            "dpkg-preconfigure: unable to re-open stdin: \n",
            "Selecting previously unselected package git-lfs.\n",
            "(Reading database ... 144332 files and directories currently installed.)\n",
            "Preparing to unpack .../git-lfs_2.11.0_amd64.deb ...\n",
            "Unpacking git-lfs (2.11.0) ...\n",
            "Setting up git-lfs (2.11.0) ...\n",
            "Git LFS initialized.\n",
            "Processing triggers for man-db (2.8.3-2ubuntu0.1) ...\n",
            "Git LFS initialized.\n",
            "Cloning into 'kits19'...\n",
            "remote: Enumerating objects: 954, done.\u001b[K\n",
            "remote: Counting objects: 100% (954/954), done.\u001b[K\n",
            "remote: Compressing objects: 100% (124/124), done.\u001b[K\n",
            "remote: Total 991 (delta 433), reused 927 (delta 408), pack-reused 37\u001b[K\n",
            "Receiving objects: 100% (991/991), 29.70 MiB | 28.35 MiB/s, done.\n",
            "Resolving deltas: 100% (451/451), done.\n"
          ],
          "name": "stdout"
        }
      ]
    },
    {
      "cell_type": "code",
      "metadata": {
        "id": "Oz_vlNAhcBJy",
        "colab_type": "code",
        "colab": {
          "base_uri": "https://localhost:8080/",
          "height": 1000
        },
        "outputId": "11cc7601-fd77-4685-9b24-7e5b746f68a0"
      },
      "source": [
        "%cd kits19\n",
        "!pip3 install -r /content/kits19/requirements.txt\n",
        "! python -m starter_code.get_imaging"
      ],
      "execution_count": null,
      "outputs": [
        {
          "output_type": "stream",
          "text": [
            "/content/kits19\n",
            "Requirement already satisfied: numpy in /usr/local/lib/python3.6/dist-packages (from -r /content/kits19/requirements.txt (line 1)) (1.18.5)\n",
            "Requirement already satisfied: nibabel in /usr/local/lib/python3.6/dist-packages (from -r /content/kits19/requirements.txt (line 2)) (3.0.2)\n",
            "Requirement already satisfied: imageio in /usr/local/lib/python3.6/dist-packages (from -r /content/kits19/requirements.txt (line 3)) (2.4.1)\n",
            "Requirement already satisfied: requests in /usr/local/lib/python3.6/dist-packages (from -r /content/kits19/requirements.txt (line 4)) (2.23.0)\n",
            "Requirement already satisfied: tqdm in /usr/local/lib/python3.6/dist-packages (from -r /content/kits19/requirements.txt (line 5)) (4.41.1)\n",
            "Requirement already satisfied: pillow in /usr/local/lib/python3.6/dist-packages (from imageio->-r /content/kits19/requirements.txt (line 3)) (7.0.0)\n",
            "Requirement already satisfied: idna<3,>=2.5 in /usr/local/lib/python3.6/dist-packages (from requests->-r /content/kits19/requirements.txt (line 4)) (2.9)\n",
            "Requirement already satisfied: urllib3!=1.25.0,!=1.25.1,<1.26,>=1.21.1 in /usr/local/lib/python3.6/dist-packages (from requests->-r /content/kits19/requirements.txt (line 4)) (1.24.3)\n",
            "Requirement already satisfied: certifi>=2017.4.17 in /usr/local/lib/python3.6/dist-packages (from requests->-r /content/kits19/requirements.txt (line 4)) (2020.4.5.2)\n",
            "Requirement already satisfied: chardet<4,>=3.0.2 in /usr/local/lib/python3.6/dist-packages (from requests->-r /content/kits19/requirements.txt (line 4)) (3.0.4)\n",
            "300 cases to download...\n",
            "Download 1/300: \n",
            "case_00000: 100% 225959/225960 [00:15<00:00, 14723.53KB/s]\n",
            "Download 2/300: \n",
            "case_00001: 100% 276387/276388 [00:18<00:00, 14916.42KB/s]\n",
            "Download 3/300: \n",
            "case_00002: 100% 101967/101968 [00:06<00:00, 15721.72KB/s]\n",
            "Download 4/300: \n",
            "case_00003: 100% 118681/118682 [00:08<00:00, 13637.96KB/s]\n",
            "Download 5/300: \n",
            "case_00004: 100% 25269/25270 [00:02<00:00, 10099.19KB/s]\n",
            "Download 6/300: \n",
            "case_00005: 100% 313477/313478 [00:17<00:00, 17601.32KB/s]\n",
            "Download 7/300: \n",
            "case_00006: 100% 78010/78011 [00:05<00:00, 13367.55KB/s]\n",
            "Download 8/300: \n",
            "case_00007: 100% 25826/25827 [00:02<00:00, 10343.90KB/s]\n",
            "Download 9/300: \n",
            "case_00008: 100% 107068/107069 [00:07<00:00, 14323.06KB/s]\n",
            "Download 10/300: \n",
            "case_00009: 100% 34134/34135 [00:03<00:00, 10753.81KB/s]\n",
            "Download 11/300: \n",
            "case_00010: 100% 23541/23542 [00:02<00:00, 9979.80KB/s]\n",
            "Download 12/300: \n",
            "case_00011: 100% 41268/41269 [00:03<00:00, 11436.23KB/s]\n",
            "Download 13/300: \n",
            "case_00012: 100% 43185/43186 [00:03<00:00, 11942.26KB/s]\n",
            "Download 14/300: \n",
            "case_00013: 100% 44485/44486 [00:03<00:00, 11901.22KB/s]\n",
            "Download 15/300: \n",
            "case_00014: 100% 192486/192487 [00:12<00:00, 14822.64KB/s]\n",
            "Download 16/300: \n",
            "case_00015: 100% 23795/23796 [00:02<00:00, 10661.37KB/s]\n",
            "Download 17/300: \n",
            "case_00016: 100% 86929/86930 [00:06<00:00, 13649.88KB/s]\n",
            "Download 18/300: \n",
            "case_00017: 100% 49940/49941 [00:03<00:00, 13341.76KB/s]\n",
            "Download 19/300: \n",
            "case_00018: 100% 49984/49985 [00:03<00:00, 12859.03KB/s]\n",
            "Download 20/300: \n",
            "case_00019: 100% 51644/51645 [00:04<00:00, 12015.43KB/s]\n",
            "Download 21/300: \n",
            "case_00020: 100% 43148/43149 [00:03<00:00, 12426.82KB/s]\n",
            "Download 22/300: \n",
            "case_00021: 100% 17267/17268 [00:02<00:00, 8065.75KB/s]\n",
            "Download 23/300: \n",
            "case_00022: 100% 235518/235519 [00:14<00:00, 16721.42KB/s]\n",
            "Download 24/300: \n",
            "case_00023: 100% 45338/45339 [00:03<00:00, 11678.69KB/s]\n",
            "Download 25/300: \n",
            "case_00024: 100% 43319/43320 [00:03<00:00, 11571.17KB/s]\n",
            "Download 26/300: \n",
            "case_00025: 100% 42608/42609 [00:03<00:00, 12280.05KB/s]\n",
            "Download 27/300: \n",
            "case_00026: 100% 128953/128954 [00:08<00:00, 14576.11KB/s]\n",
            "Download 28/300: \n",
            "case_00027: 100% 300960/300961 [00:19<00:00, 15801.60KB/s]\n",
            "Download 29/300: \n",
            "case_00028: 100% 45001/45002 [00:03<00:00, 12027.80KB/s]\n",
            "Download 30/300: \n",
            "case_00029: 100% 62472/62473 [00:04<00:00, 12877.62KB/s]\n",
            "Download 31/300: \n",
            "case_00030: 100% 18676/18677 [00:02<00:00, 8989.66KB/s]\n",
            "Download 32/300: \n",
            "case_00031: 100% 50504/50505 [00:04<00:00, 12550.97KB/s]\n",
            "Download 33/300: \n",
            "case_00032: 100% 75286/75287 [00:05<00:00, 14329.79KB/s]\n",
            "Download 34/300: \n",
            "case_00033: 100% 191873/191874 [00:11<00:00, 16081.05KB/s]\n",
            "Download 35/300: \n",
            "case_00034: 100% 52752/52753 [00:04<00:00, 12646.76KB/s]\n",
            "Download 36/300: \n",
            "case_00035: 100% 39633/39634 [00:03<00:00, 11435.54KB/s]\n",
            "Download 37/300: \n",
            "case_00036: 100% 78614/78615 [00:05<00:00, 13546.42KB/s]\n",
            "Download 38/300: \n",
            "case_00037: 100% 40424/40425 [00:03<00:00, 11412.88KB/s]\n",
            "Download 39/300: \n",
            "case_00038: 100% 15415/15416 [00:02<00:00, 7676.92KB/s]\n",
            "Download 40/300: \n",
            "case_00039: 100% 44953/44954 [00:03<00:00, 12026.29KB/s]\n",
            "Download 41/300: \n",
            "case_00040: 100% 81954/81955 [00:06<00:00, 13435.13KB/s]\n",
            "Download 42/300: \n",
            "case_00041: 100% 25224/25225 [00:02<00:00, 10419.68KB/s]\n",
            "Download 43/300: \n",
            "case_00042: 100% 136618/136619 [00:09<00:00, 14290.32KB/s]\n",
            "Download 44/300: \n",
            "case_00043: 100% 70644/70645 [00:05<00:00, 13745.86KB/s]\n",
            "Download 45/300: \n",
            "case_00044: 100% 38419/38420 [00:03<00:00, 10666.90KB/s]\n",
            "Download 46/300: \n",
            "case_00045: 100% 25584/25585 [00:02<00:00, 10248.15KB/s]\n",
            "Download 47/300: \n",
            "case_00046: 100% 59261/59262 [00:04<00:00, 12247.90KB/s]\n",
            "Download 48/300: \n",
            "case_00047: 100% 63514/63515 [00:04<00:00, 13497.32KB/s]\n",
            "Download 49/300: \n",
            "case_00048: 100% 30867/30868 [00:02<00:00, 10629.95KB/s]\n",
            "Download 50/300: \n",
            "case_00049: 100% 289194/289195 [00:19<00:00, 15117.36KB/s]\n",
            "Download 51/300: \n",
            "case_00050: 100% 40193/40194 [00:03<00:00, 11595.69KB/s]\n",
            "Download 52/300: \n",
            "case_00051: 100% 25645/25646 [00:02<00:00, 10204.84KB/s]\n",
            "Download 53/300: \n",
            "case_00052: 100% 256991/256992 [00:16<00:00, 15379.57KB/s]\n",
            "Download 54/300: \n",
            "case_00053: 100% 251298/251299 [00:16<00:00, 15013.03KB/s]\n",
            "Download 55/300: \n",
            "case_00054: 100% 41865/41866 [00:03<00:00, 13679.08KB/s]\n",
            "Download 56/300: \n",
            "case_00055: 100% 43342/43343 [00:03<00:00, 11546.15KB/s]\n",
            "Download 57/300: \n",
            "case_00056: 100% 45668/45669 [00:03<00:00, 12198.98KB/s]\n",
            "Download 58/300: \n",
            "case_00057: 100% 37609/37610 [00:03<00:00, 11262.30KB/s]\n",
            "Download 59/300: \n",
            "case_00058: 100% 43100/43101 [00:03<00:00, 12473.93KB/s]\n",
            "Download 60/300: \n",
            "case_00059: 100% 324407/324408 [00:16<00:00, 19232.48KB/s]\n",
            "Download 61/300: \n",
            "case_00060: 100% 62615/62616 [00:04<00:00, 12531.43KB/s]\n",
            "Download 62/300: \n",
            "case_00061: 100% 11577/11578 [00:01<00:00, 6959.39KB/s]\n",
            "Download 63/300: \n",
            "case_00062: 100% 32540/32541 [00:02<00:00, 11765.62KB/s]\n",
            "Download 64/300: \n",
            "case_00063: 100% 231715/231716 [00:15<00:00, 14848.14KB/s]\n",
            "Download 65/300: \n",
            "case_00064: 100% 21721/21722 [00:02<00:00, 9809.76KB/s]\n",
            "Download 66/300: \n",
            "case_00065: 100% 48274/48275 [00:04<00:00, 11994.28KB/s]\n",
            "Download 67/300: \n",
            "case_00066: 100% 186603/186604 [00:12<00:00, 14385.19KB/s]\n",
            "Download 68/300: \n",
            "case_00067: 100% 134477/134478 [00:08<00:00, 15188.83KB/s]\n",
            "Download 69/300: \n",
            "case_00068: 100% 300829/300830 [00:17<00:00, 16748.14KB/s]\n",
            "Download 70/300: \n",
            "case_00069: 100% 46183/46184 [00:03<00:00, 12333.53KB/s]\n",
            "Download 71/300: \n",
            "case_00070: 100% 29478/29479 [00:02<00:00, 11141.76KB/s]\n",
            "Download 72/300: \n",
            "case_00071: 100% 268825/268826 [00:16<00:00, 15927.90KB/s]\n",
            "Download 73/300: \n",
            "case_00072: 100% 79384/79385 [00:06<00:00, 12748.91KB/s]\n",
            "Download 74/300: \n",
            "case_00073: 100% 66227/66228 [00:04<00:00, 13275.10KB/s]\n",
            "Download 75/300: \n",
            "case_00074: 100% 39078/39079 [00:03<00:00, 11717.20KB/s]\n",
            "Download 76/300: \n",
            "case_00075: 100% 44705/44706 [00:03<00:00, 11483.84KB/s]\n",
            "Download 77/300: \n",
            "case_00076: 100% 32585/32586 [00:03<00:00, 10702.48KB/s]\n",
            "Download 78/300: \n",
            "case_00077: 100% 42628/42629 [00:03<00:00, 12287.62KB/s]\n",
            "Download 79/300: \n",
            "case_00078: 100% 132219/132220 [00:09<00:00, 14673.59KB/s]\n",
            "Download 80/300: \n",
            "case_00079: 100% 60760/60761 [00:04<00:00, 12523.76KB/s]\n",
            "Download 81/300: \n",
            "case_00080: 100% 43158/43159 [00:03<00:00, 13007.15KB/s]\n",
            "Download 82/300: \n",
            "case_00081: 100% 60350/60351 [00:04<00:00, 12722.90KB/s]\n",
            "Download 83/300: \n",
            "case_00082: 100% 57346/57347 [00:04<00:00, 12523.51KB/s]\n",
            "Download 84/300: \n",
            "case_00083: 100% 38295/38296 [00:03<00:00, 11478.74KB/s]\n",
            "Download 85/300: \n",
            "case_00084: 100% 112681/112682 [00:07<00:00, 14798.15KB/s]\n",
            "Download 86/300: \n",
            "case_00085: 100% 36294/36295 [00:02<00:00, 12440.24KB/s]\n",
            "Download 87/300: \n",
            "case_00086: 100% 81962/81963 [00:06<00:00, 13155.15KB/s]\n",
            "Download 88/300: \n",
            "case_00087: 100% 25303/25304 [00:02<00:00, 10131.48KB/s]\n",
            "Download 89/300: \n",
            "case_00088: 100% 47969/47970 [00:03<00:00, 12772.86KB/s]\n",
            "Download 90/300: \n",
            "case_00089: 100% 24690/24691 [00:02<00:00, 9893.72KB/s]\n",
            "Download 91/300: \n",
            "case_00090: 100% 35861/35862 [00:03<00:00, 10791.19KB/s]\n",
            "Download 92/300: \n",
            "case_00091: 100% 320735/320736 [00:21<00:00, 15234.33KB/s]\n",
            "Download 93/300: \n",
            "case_00092: 100% 51076/51077 [00:04<00:00, 11886.67KB/s]\n",
            "Download 94/300: \n",
            "case_00093: 100% 324309/324310 [00:17<00:00, 19042.08KB/s]\n",
            "Download 95/300: \n",
            "case_00094: 100% 17428/17429 [00:01<00:00, 9556.00KB/s]\n",
            "Download 96/300: \n",
            "case_00095: 100% 127649/127650 [00:09<00:00, 13970.87KB/s]\n",
            "Download 97/300: \n",
            "case_00096: 100% 303181/303182 [00:19<00:00, 15837.37KB/s]\n",
            "Download 98/300: \n",
            "case_00097: 100% 35994/35995 [00:03<00:00, 11764.72KB/s]\n",
            "Download 99/300: \n",
            "case_00098: 100% 113065/113066 [00:06<00:00, 16649.79KB/s]\n",
            "Download 100/300: \n",
            "case_00099: 100% 44531/44532 [00:03<00:00, 12818.96KB/s]\n",
            "Download 101/300: \n",
            "case_00100: 100% 217447/217448 [00:13<00:00, 16698.46KB/s]\n",
            "Download 102/300: \n",
            "case_00101: 100% 222646/222647 [00:12<00:00, 17518.88KB/s]\n",
            "Download 103/300: \n",
            "case_00102: 100% 139727/139728 [00:10<00:00, 13819.90KB/s]\n",
            "Download 104/300: \n",
            "case_00103: 100% 286971/286972 [00:17<00:00, 16453.79KB/s]\n",
            "Download 105/300: \n",
            "case_00104: 100% 58853/58854 [00:04<00:00, 12835.32KB/s]\n",
            "Download 106/300: \n",
            "case_00105: 100% 60940/60941 [00:04<00:00, 12220.30KB/s]\n",
            "Download 107/300: \n",
            "case_00106: 100% 47144/47145 [00:04<00:00, 11749.63KB/s]\n",
            "Download 108/300: \n",
            "case_00107: 100% 34804/34805 [00:03<00:00, 10899.30KB/s]\n",
            "Download 109/300: \n",
            "case_00108: 100% 23687/23688 [00:02<00:00, 10012.82KB/s]\n",
            "Download 110/300: \n",
            "case_00109: 100% 32402/32403 [00:03<00:00, 10662.89KB/s]\n",
            "Download 111/300: \n",
            "case_00110: 100% 16481/16482 [00:02<00:00, 7928.86KB/s]\n",
            "Download 112/300: \n",
            "case_00111: 100% 78705/78706 [00:05<00:00, 13253.26KB/s]\n",
            "Download 113/300: \n",
            "case_00112: 100% 55840/55841 [00:04<00:00, 12683.71KB/s]\n",
            "Download 114/300: \n",
            "case_00113: 100% 22107/22108 [00:02<00:00, 9957.66KB/s]\n",
            "Download 115/300: \n",
            "case_00114: 100% 147217/147218 [00:09<00:00, 16049.74KB/s]\n",
            "Download 116/300: \n",
            "case_00115: 100% 147301/147302 [00:10<00:00, 14408.22KB/s]\n",
            "Download 117/300: \n",
            "case_00116: 100% 196707/196708 [00:12<00:00, 15800.19KB/s]\n",
            "Download 118/300: \n",
            "case_00117: 100% 30684/30685 [00:02<00:00, 10783.16KB/s]\n",
            "Download 119/300: \n",
            "case_00118: 100% 303939/303940 [00:19<00:00, 15599.74KB/s]\n",
            "Download 120/300: \n",
            "case_00119: 100% 44352/44353 [00:03<00:00, 12783.99KB/s]\n",
            "Download 121/300: \n",
            "case_00120: 100% 135413/135414 [00:09<00:00, 14207.95KB/s]\n",
            "Download 122/300: \n",
            "case_00121: 100% 35289/35290 [00:03<00:00, 11476.16KB/s]\n",
            "Download 123/300: \n",
            "case_00122: 100% 25550/25551 [00:02<00:00, 10163.87KB/s]\n",
            "Download 124/300: \n",
            "case_00123: 100% 150859/150860 [00:10<00:00, 14497.56KB/s]\n",
            "Download 125/300: \n",
            "case_00124: 100% 113055/113056 [00:08<00:00, 13373.40KB/s]\n",
            "Download 126/300: \n",
            "case_00125: 100% 64037/64038 [00:04<00:00, 13241.32KB/s]\n",
            "Download 127/300: \n",
            "case_00126: 100% 46555/46556 [00:03<00:00, 11997.56KB/s]\n",
            "Download 128/300: \n",
            "case_00127: 100% 41530/41531 [00:03<00:00, 11522.04KB/s]\n",
            "Download 129/300: \n",
            "case_00128: 100% 87078/87079 [00:06<00:00, 13965.47KB/s]\n",
            "Download 130/300: \n",
            "case_00129: 100% 24054/24055 [00:02<00:00, 9644.29KB/s]\n",
            "Download 131/300: \n",
            "case_00130: 100% 26677/26678 [00:02<00:00, 10109.32KB/s]\n",
            "Download 132/300: \n",
            "case_00131: 100% 66542/66543 [00:04<00:00, 14576.87KB/s]\n",
            "Download 133/300: \n",
            "case_00132: 100% 240243/240244 [00:15<00:00, 15401.32KB/s]\n",
            "Download 134/300: \n",
            "case_00133: 100% 73000/73001 [00:05<00:00, 13160.27KB/s]\n",
            "Download 135/300: \n",
            "case_00134: 100% 24422/24423 [00:02<00:00, 9806.60KB/s]\n",
            "Download 136/300: \n",
            "case_00135: 100% 269658/269659 [00:15<00:00, 17844.73KB/s]\n",
            "Download 137/300: \n",
            "case_00136: 100% 51986/51987 [00:04<00:00, 12435.78KB/s]\n",
            "Download 138/300: \n",
            "case_00137: 100% 47700/47701 [00:04<00:00, 11449.43KB/s]\n",
            "Download 139/300: \n",
            "case_00138: 100% 40601/40602 [00:03<00:00, 11005.06KB/s]\n",
            "Download 140/300: \n",
            "case_00139: 100% 48587/48588 [00:03<00:00, 12500.61KB/s]\n",
            "Download 141/300: \n",
            "case_00140: 100% 129580/129581 [00:08<00:00, 14414.41KB/s]\n",
            "Download 142/300: \n",
            "case_00141: 100% 271847/271848 [00:18<00:00, 15020.17KB/s]\n",
            "Download 143/300: \n",
            "case_00142: 100% 119786/119787 [00:08<00:00, 14166.34KB/s]\n",
            "Download 144/300: \n",
            "case_00143: 100% 39109/39110 [00:03<00:00, 11723.65KB/s]\n",
            "Download 145/300: \n",
            "case_00144: 100% 86697/86698 [00:05<00:00, 15213.74KB/s]\n",
            "Download 146/300: \n",
            "case_00145: 100% 32713/32714 [00:03<00:00, 10725.39KB/s]\n",
            "Download 147/300: \n",
            "case_00146: 100% 281605/281606 [00:19<00:00, 14519.66KB/s]\n",
            "Download 148/300: \n",
            "case_00147: 100% 28532/28533 [00:02<00:00, 10843.35KB/s]\n",
            "Download 149/300: \n",
            "case_00148: 100% 15411/15412 [00:01<00:00, 8536.14KB/s]\n",
            "Download 150/300: \n",
            "case_00149: 100% 47822/47823 [00:03<00:00, 12752.62KB/s]\n",
            "Download 151/300: \n",
            "case_00150: 100% 43249/43250 [00:03<00:00, 12448.15KB/s]\n",
            "Download 152/300: \n",
            "case_00151: 100% 495993/495994 [00:30<00:00, 16349.63KB/s]\n",
            "Download 153/300: \n",
            "case_00152: 100% 19368/19369 [00:02<00:00, 8706.15KB/s]\n",
            "Download 154/300: \n",
            "case_00153: 100% 35727/35728 [00:03<00:00, 11660.41KB/s]\n",
            "Download 155/300: \n",
            "case_00154: 100% 185019/185020 [00:12<00:00, 14353.41KB/s]\n",
            "Download 156/300: \n",
            "case_00155: 100% 235923/235924 [00:14<00:00, 16198.04KB/s]\n",
            "Download 157/300: \n",
            "case_00156: 100% 363352/363353 [00:24<00:00, 15014.38KB/s]\n",
            "Download 158/300: \n",
            "case_00157: 100% 231036/231037 [00:12<00:00, 17968.60KB/s]\n",
            "Download 159/300: \n",
            "case_00158: 100% 345812/345813 [00:22<00:00, 15429.14KB/s]\n",
            "Download 160/300: \n",
            "case_00159: 100% 321877/321878 [00:19<00:00, 16459.47KB/s]\n",
            "Download 161/300: \n",
            "case_00160: 100% 196732/196733 [00:11<00:00, 17486.14KB/s]\n",
            "Download 162/300: \n",
            "case_00161: 100% 25615/25616 [00:02<00:00, 10754.05KB/s]\n",
            "Download 163/300: \n",
            "case_00162: 100% 45384/45385 [00:03<00:00, 12100.32KB/s]\n",
            "Download 164/300: \n",
            "case_00163: 100% 40205/40206 [00:03<00:00, 12063.88KB/s]\n",
            "Download 165/300: \n",
            "case_00164: 100% 44482/44483 [00:03<00:00, 11455.12KB/s]\n",
            "Download 166/300: \n",
            "case_00165: 100% 283401/283402 [00:15<00:00, 17795.79KB/s]\n",
            "Download 167/300: \n",
            "case_00166: 100% 41559/41560 [00:03<00:00, 11952.73KB/s]\n",
            "Download 168/300: \n",
            "case_00167: 100% 41129/41130 [00:03<00:00, 11835.36KB/s]\n",
            "Download 169/300: \n",
            "case_00168: 100% 32048/32049 [00:02<00:00, 11501.78KB/s]\n",
            "Download 170/300: \n",
            "case_00169: 100% 42056/42057 [00:03<00:00, 11665.29KB/s]\n",
            "Download 171/300: \n",
            "case_00170: 100% 130206/130207 [00:09<00:00, 14062.56KB/s]\n",
            "Download 172/300: \n",
            "case_00171: 100% 63813/63814 [00:04<00:00, 13915.14KB/s]\n",
            "Download 173/300: \n",
            "case_00172: 100% 37626/37627 [00:03<00:00, 11345.57KB/s]\n",
            "Download 174/300: \n",
            "case_00173: 100% 45244/45245 [00:03<00:00, 13011.22KB/s]\n",
            "Download 175/300: \n",
            "case_00174: 100% 31894/31895 [00:03<00:00, 10434.63KB/s]\n",
            "Download 176/300: \n",
            "case_00175: 100% 54239/54240 [00:04<00:00, 12194.31KB/s]\n",
            "Download 177/300: \n",
            "case_00176: 100% 41461/41462 [00:03<00:00, 12947.90KB/s]\n",
            "Download 178/300: \n",
            "case_00177: 100% 42626/42627 [00:03<00:00, 12024.07KB/s]\n",
            "Download 179/300: \n",
            "case_00178: 100% 35857/35858 [00:03<00:00, 11689.05KB/s]\n",
            "Download 180/300: \n",
            "case_00179: 100% 49463/49464 [00:04<00:00, 12289.51KB/s]\n",
            "Download 181/300: \n",
            "case_00180: 100% 66993/66994 [00:05<00:00, 13039.42KB/s]\n",
            "Download 182/300: \n",
            "case_00181: 100% 49292/49293 [00:03<00:00, 12692.39KB/s]\n",
            "Download 183/300: \n",
            "case_00182: 100% 38436/38437 [00:03<00:00, 11569.98KB/s]\n",
            "Download 184/300: \n",
            "case_00183: 100% 99950/99951 [00:07<00:00, 14165.76KB/s]\n",
            "Download 185/300: \n",
            "case_00184: 100% 70271/70272 [00:05<00:00, 12720.15KB/s]\n",
            "Download 186/300: \n",
            "case_00185: 100% 99730/99731 [00:07<00:00, 13588.59KB/s]\n",
            "Download 187/300: \n",
            "case_00186: 100% 68574/68575 [00:04<00:00, 13737.67KB/s]\n",
            "Download 188/300: \n",
            "case_00187: 100% 41465/41466 [00:03<00:00, 11255.16KB/s]\n",
            "Download 189/300: \n",
            "case_00188: 100% 173648/173649 [00:12<00:00, 14345.94KB/s]\n",
            "Download 190/300: \n",
            "case_00189: 100% 69794/69795 [00:05<00:00, 12899.59KB/s]\n",
            "Download 191/300: \n",
            "case_00190: 100% 80969/80970 [00:05<00:00, 13925.38KB/s]\n",
            "Download 192/300: \n",
            "case_00191: 100% 146751/146752 [00:09<00:00, 15174.36KB/s]\n",
            "Download 193/300: \n",
            "case_00192: 100% 56112/56113 [00:04<00:00, 11924.64KB/s]\n",
            "Download 194/300: \n",
            "case_00193: 100% 94515/94516 [00:06<00:00, 13940.00KB/s]\n",
            "Download 195/300: \n",
            "case_00194: 100% 56502/56503 [00:04<00:00, 12315.54KB/s]\n",
            "Download 196/300: \n",
            "case_00195: 100% 47638/47639 [00:03<00:00, 12715.93KB/s]\n",
            "Download 197/300: \n",
            "case_00196: 100% 80043/80044 [00:05<00:00, 13706.28KB/s]\n",
            "Download 198/300: \n",
            "case_00197: 100% 71480/71481 [00:05<00:00, 12892.01KB/s]\n",
            "Download 199/300: \n",
            "case_00198: 100% 130795/130796 [00:08<00:00, 14567.12KB/s]\n",
            "Download 200/300: \n",
            "case_00199: 100% 48897/48898 [00:03<00:00, 12567.27KB/s]\n",
            "Download 201/300: \n",
            "case_00200: 100% 51449/51450 [00:04<00:00, 12332.31KB/s]\n",
            "Download 202/300: \n",
            "case_00201: 100% 47090/47091 [00:03<00:00, 12138.38KB/s]\n",
            "Download 203/300: \n",
            "case_00202: 100% 145466/145467 [00:08<00:00, 16667.83KB/s]\n",
            "Download 204/300: \n",
            "case_00203: 100% 295206/295207 [00:18<00:00, 16069.90KB/s]\n",
            "Download 205/300: \n",
            "case_00204: 100% 31576/31577 [00:02<00:00, 10835.38KB/s]\n",
            "Download 206/300: \n",
            "case_00205: 100% 44138/44139 [00:03<00:00, 12277.88KB/s]\n",
            "Download 207/300: \n",
            "case_00206: 100% 22988/22989 [00:02<00:00, 9717.27KB/s]\n",
            "Download 208/300: \n",
            "case_00207: 100% 68719/68720 [00:04<00:00, 13812.81KB/s]\n",
            "Download 209/300: \n",
            "case_00208: 100% 39898/39899 [00:03<00:00, 11517.51KB/s]\n",
            "Download 210/300: \n",
            "case_00209: 100% 50270/50271 [00:03<00:00, 14722.85KB/s]\n",
            "Download 211/300: \n",
            "case_00210: 100% 18415/18416 [00:02<00:00, 8867.17KB/s]\n",
            "Download 212/300: \n",
            "case_00211: 100% 42867/42868 [00:03<00:00, 11489.10KB/s]\n",
            "Download 213/300: \n",
            "case_00212: 100% 42084/42085 [00:03<00:00, 12113.87KB/s]\n",
            "Download 214/300: \n",
            "case_00213: 100% 290128/290129 [00:18<00:00, 15762.98KB/s]\n",
            "Download 215/300: \n",
            "case_00214: 100% 197325/197326 [00:12<00:00, 16382.41KB/s]\n",
            "Download 216/300: \n",
            "case_00215: 100% 32360/32361 [00:02<00:00, 11657.53KB/s]\n",
            "Download 217/300: \n",
            "case_00216: 100% 318160/318161 [00:16<00:00, 19036.05KB/s]\n",
            "Download 218/300: \n",
            "case_00217: 100% 66593/66594 [00:04<00:00, 13691.09KB/s]\n",
            "Download 219/300: \n",
            "case_00218: 100% 73150/73151 [00:05<00:00, 12876.13KB/s]\n",
            "Download 220/300: \n",
            "case_00219: 100% 74788/74789 [00:05<00:00, 14542.89KB/s]\n",
            "Download 221/300: \n",
            "case_00220: 100% 86327/86328 [00:05<00:00, 14976.96KB/s]\n",
            "Download 222/300: \n",
            "case_00221: 100% 68228/68229 [00:04<00:00, 14136.13KB/s]\n",
            "Download 223/300: \n",
            "case_00222: 100% 44420/44421 [00:03<00:00, 11886.45KB/s]\n",
            "Download 224/300: \n",
            "case_00223: 100% 175070/175071 [00:10<00:00, 16224.32KB/s]\n",
            "Download 225/300: \n",
            "case_00224: 100% 41716/41717 [00:03<00:00, 11498.29KB/s]\n",
            "Download 226/300: \n",
            "case_00225: 100% 51437/51438 [00:04<00:00, 12795.42KB/s]\n",
            "Download 227/300: \n",
            "case_00226: 100% 62450/62451 [00:04<00:00, 12835.52KB/s]\n",
            "Download 228/300: \n",
            "case_00227: 100% 66362/66363 [00:05<00:00, 13264.95KB/s]\n",
            "Download 229/300: \n",
            "case_00228: 100% 42517/42518 [00:03<00:00, 11811.57KB/s]\n",
            "Download 230/300: \n",
            "case_00229: 100% 124090/124091 [00:07<00:00, 15690.65KB/s]\n",
            "Download 231/300: \n",
            "case_00230: 100% 46409/46410 [00:04<00:00, 11489.52KB/s]\n",
            "Download 232/300: \n",
            "case_00231: 100% 72366/72367 [00:05<00:00, 13068.62KB/s]\n",
            "Download 233/300: \n",
            "case_00232: 100% 44837/44838 [00:03<00:00, 11966.46KB/s]\n",
            "Download 234/300: \n",
            "case_00233: 100% 41518/41519 [00:03<00:00, 12944.03KB/s]\n",
            "Download 235/300: \n",
            "case_00234: 100% 69470/69471 [00:04<00:00, 14261.03KB/s]\n",
            "Download 236/300: \n",
            "case_00235: 100% 79819/79820 [00:05<00:00, 13411.82KB/s]\n",
            "Download 237/300: \n",
            "case_00236: 100% 28360/28361 [00:02<00:00, 9715.87KB/s]\n",
            "Download 238/300: \n",
            "case_00237: 100% 67799/67800 [00:05<00:00, 12556.81KB/s]\n",
            "Download 239/300: \n",
            "case_00238: 100% 46579/46580 [00:04<00:00, 11545.40KB/s]\n",
            "Download 240/300: \n",
            "case_00239: 100% 42971/42972 [00:03<00:00, 11931.81KB/s]\n",
            "Download 241/300: \n",
            "case_00240: 100% 80533/80534 [00:05<00:00, 13525.75KB/s]\n",
            "Download 242/300: \n",
            "case_00241: 100% 47966/47967 [00:04<00:00, 11974.27KB/s]\n",
            "Download 243/300: \n",
            "case_00242: 100% 39443/39444 [00:03<00:00, 11428.97KB/s]\n",
            "Download 244/300: \n",
            "case_00243: 100% 41461/41462 [00:03<00:00, 12202.61KB/s]\n",
            "Download 245/300: \n",
            "case_00244: 100% 35423/35424 [00:03<00:00, 10643.23KB/s]\n",
            "Download 246/300: \n",
            "case_00245: 100% 59856/59857 [00:04<00:00, 12723.01KB/s]\n",
            "Download 247/300: \n",
            "case_00246: 100% 283908/283909 [00:19<00:00, 14689.69KB/s]\n",
            "Download 248/300: \n",
            "case_00247: 100% 106016/106017 [00:07<00:00, 13928.94KB/s]\n",
            "Download 249/300: \n",
            "case_00248: 100% 26495/26496 [00:02<00:00, 9558.33KB/s]\n",
            "Download 250/300: \n",
            "case_00249: 100% 118824/118825 [00:08<00:00, 14567.46KB/s]\n",
            "Download 251/300: \n",
            "case_00250: 100% 97097/97098 [00:07<00:00, 13758.09KB/s]\n",
            "Download 252/300: \n",
            "case_00251: 100% 22695/22696 [00:02<00:00, 9569.11KB/s]\n",
            "Download 253/300: \n",
            "case_00252: 100% 22888/22889 [00:02<00:00, 9698.87KB/s]\n",
            "Download 254/300: \n",
            "case_00253: 100% 220845/220846 [00:13<00:00, 16626.74KB/s]\n",
            "Download 255/300: \n",
            "case_00254: 100% 121347/121348 [00:08<00:00, 14612.70KB/s]\n",
            "Download 256/300: \n",
            "case_00255: 100% 73537/73538 [00:05<00:00, 13599.55KB/s]\n",
            "Download 257/300: \n",
            "case_00256: 100% 30832/30833 [00:02<00:00, 10605.75KB/s]\n",
            "Download 258/300: \n",
            "case_00257: 100% 15440/15441 [00:01<00:00, 8521.86KB/s]\n",
            "Download 259/300: \n",
            "case_00258: 100% 44551/44552 [00:03<00:00, 11869.80KB/s]\n",
            "Download 260/300: \n",
            "case_00259: 100% 38176/38177 [00:03<00:00, 10597.89KB/s]\n",
            "Download 261/300: \n",
            "case_00260: 100% 25637/25638 [00:02<00:00, 10254.57KB/s]\n",
            "Download 262/300: \n",
            "case_00261: 100% 255984/255985 [00:15<00:00, 16131.19KB/s]\n",
            "Download 263/300: \n",
            "case_00262: 100% 31776/31777 [00:02<00:00, 10892.26KB/s]\n",
            "Download 264/300: \n",
            "case_00263: 100% 310741/310742 [00:21<00:00, 14636.95KB/s]\n",
            "Download 265/300: \n",
            "case_00264: 100% 189605/189606 [00:11<00:00, 15907.45KB/s]\n",
            "Download 266/300: \n",
            "case_00265: 100% 45731/45732 [00:03<00:00, 11767.49KB/s]\n",
            "Download 267/300: \n",
            "case_00266: 100% 42291/42292 [00:03<00:00, 12213.24KB/s]\n",
            "Download 268/300: \n",
            "case_00267: 100% 23594/23595 [00:02<00:00, 9429.77KB/s]\n",
            "Download 269/300: \n",
            "case_00268: 100% 80600/80601 [00:05<00:00, 14530.10KB/s]\n",
            "Download 270/300: \n",
            "case_00269: 100% 45354/45355 [00:03<00:00, 11804.66KB/s]\n",
            "Download 271/300: \n",
            "case_00270: 100% 47591/47592 [00:03<00:00, 11997.42KB/s]\n",
            "Download 272/300: \n",
            "case_00271: 100% 216019/216020 [00:14<00:00, 14461.01KB/s]\n",
            "Download 273/300: \n",
            "case_00272: 100% 271071/271072 [00:15<00:00, 17810.95KB/s]\n",
            "Download 274/300: \n",
            "case_00273: 100% 110309/110310 [00:07<00:00, 14507.42KB/s]\n",
            "Download 275/300: \n",
            "case_00274: 100% 54524/54525 [00:04<00:00, 12686.58KB/s]\n",
            "Download 276/300: \n",
            "case_00275: 100% 38690/38691 [00:03<00:00, 11658.45KB/s]\n",
            "Download 277/300: \n",
            "case_00276: 100% 305614/305615 [00:16<00:00, 18768.47KB/s]\n",
            "Download 278/300: \n",
            "case_00277: 100% 40912/40913 [00:03<00:00, 11375.39KB/s]\n",
            "Download 279/300: \n",
            "case_00278: 100% 82590/82591 [00:05<00:00, 16086.26KB/s]\n",
            "Download 280/300: \n",
            "case_00279: 100% 26124/26125 [00:02<00:00, 10209.31KB/s]\n",
            "Download 281/300: \n",
            "case_00280: 100% 38398/38399 [00:03<00:00, 11479.39KB/s]\n",
            "Download 282/300: \n",
            "case_00281: 100% 123692/123693 [00:08<00:00, 13986.52KB/s]\n",
            "Download 283/300: \n",
            "case_00282: 100% 42431/42432 [00:03<00:00, 11796.10KB/s]\n",
            "Download 284/300: \n",
            "case_00283: 100% 158916/158917 [00:09<00:00, 17386.64KB/s]\n",
            "Download 285/300: \n",
            "case_00284: 100% 113572/113573 [00:07<00:00, 14920.95KB/s]\n",
            "Download 286/300: \n",
            "case_00285: 100% 21479/21480 [00:02<00:00, 9695.79KB/s]\n",
            "Download 287/300: \n",
            "case_00286: 100% 54689/54690 [00:04<00:00, 12329.26KB/s]\n",
            "Download 288/300: \n",
            "case_00287: 100% 26272/26273 [00:02<00:00, 10249.86KB/s]\n",
            "Download 289/300: \n",
            "case_00288: 100% 118662/118663 [00:08<00:00, 14238.38KB/s]\n",
            "Download 290/300: \n",
            "case_00289: 100% 43012/43013 [00:03<00:00, 11472.70KB/s]\n",
            "Download 291/300: \n",
            "case_00290: 100% 276552/276553 [00:18<00:00, 15155.89KB/s]\n",
            "Download 292/300: \n",
            "case_00291: 100% 63322/63323 [00:04<00:00, 13406.96KB/s]\n",
            "Download 293/300: \n",
            "case_00292: 100% 42335/42336 [00:03<00:00, 11511.87KB/s]\n",
            "Download 294/300: \n",
            "case_00293: 100% 264217/264218 [00:14<00:00, 17842.21KB/s]\n",
            "Download 295/300: \n",
            "case_00294: 100% 286098/286099 [00:16<00:00, 17823.74KB/s]\n",
            "Download 296/300: \n",
            "case_00295: 100% 239083/239084 [00:16<00:00, 14646.09KB/s]\n",
            "Download 297/300: \n",
            "case_00296: 100% 40041/40042 [00:03<00:00, 11128.72KB/s]\n",
            "Download 298/300: \n",
            "case_00297: 100% 42888/42889 [00:03<00:00, 11456.69KB/s]\n",
            "Download 299/300: \n",
            "case_00298: 100% 282478/282479 [00:17<00:00, 16501.64KB/s]\n",
            "Download 300/300: \n",
            "case_00299: 100% 280551/280552 [00:16<00:00, 16895.95KB/s]\n"
          ],
          "name": "stdout"
        }
      ]
    },
    {
      "cell_type": "code",
      "metadata": {
        "id": "Jyxe7G3ecIy9",
        "colab_type": "code",
        "colab": {
          "base_uri": "https://localhost:8080/",
          "height": 34
        },
        "outputId": "bea7c79b-506c-4baf-e8ed-ed30c1802edd"
      },
      "source": [
        "%cd /content/kits19/"
      ],
      "execution_count": 145,
      "outputs": [
        {
          "output_type": "stream",
          "text": [
            "/content/kits19\n"
          ],
          "name": "stdout"
        }
      ]
    },
    {
      "cell_type": "code",
      "metadata": {
        "id": "O2OCcivdkrLR",
        "colab_type": "code",
        "colab": {
          "base_uri": "https://localhost:8080/",
          "height": 173
        },
        "outputId": "84c5ff66-251e-4069-9057-6654739810b1"
      },
      "source": [
        "!pip install medicaltorch"
      ],
      "execution_count": 146,
      "outputs": [
        {
          "output_type": "stream",
          "text": [
            "Requirement already satisfied: medicaltorch in /usr/local/lib/python3.6/dist-packages (0.2)\n",
            "Requirement already satisfied: tqdm>=4.23.0 in /usr/local/lib/python3.6/dist-packages (from medicaltorch) (4.41.1)\n",
            "Requirement already satisfied: nibabel>=2.2.1 in /usr/local/lib/python3.6/dist-packages (from medicaltorch) (3.0.2)\n",
            "Requirement already satisfied: torchvision>=0.2.1 in /usr/local/lib/python3.6/dist-packages (from medicaltorch) (0.6.0+cu101)\n",
            "Requirement already satisfied: numpy>=1.14.1 in /usr/local/lib/python3.6/dist-packages (from medicaltorch) (1.18.5)\n",
            "Requirement already satisfied: scipy>=1.0.0 in /usr/local/lib/python3.6/dist-packages (from medicaltorch) (1.4.1)\n",
            "Requirement already satisfied: torch>=0.4.0 in /usr/local/lib/python3.6/dist-packages (from medicaltorch) (1.5.0+cu101)\n",
            "Requirement already satisfied: pillow>=4.1.1 in /usr/local/lib/python3.6/dist-packages (from torchvision>=0.2.1->medicaltorch) (7.0.0)\n",
            "Requirement already satisfied: future in /usr/local/lib/python3.6/dist-packages (from torch>=0.4.0->medicaltorch) (0.16.0)\n"
          ],
          "name": "stdout"
        }
      ]
    },
    {
      "cell_type": "markdown",
      "metadata": {
        "id": "h8vuONiWgN1F",
        "colab_type": "text"
      },
      "source": [
        "## Visualizing data"
      ]
    },
    {
      "cell_type": "code",
      "metadata": {
        "id": "rEmgPsHeAPIv",
        "colab_type": "code",
        "colab": {
          "base_uri": "https://localhost:8080/",
          "height": 486
        },
        "outputId": "488799f1-2763-4fea-bf59-c38185ad2f22"
      },
      "source": [
        "import matplotlib.pyplot as plt\n",
        "import os\n",
        "train_path1 = \"/content/kits19/data/case_00000\"\n",
        "cases1 =  next(os.walk(train_path1))\n",
        "input_filename = os.path.join(train_path1, cases1[2][-1])\n",
        "gt_filename = os.path.join(train_path1, cases1[2][0])\n",
        "\n",
        " \n",
        "\n",
        "plt.figure(figsize=(8,8))\n",
        "from medicaltorch import datasets as mt_datasets\n",
        "from skimage import color\n",
        "pair = mt_datasets.SegmentationPair2D(input_filename, gt_filename) \n",
        "slice_pair = pair.get_pair_slice(175)\n",
        "input_slice = slice_pair[\"input\"]\n",
        "gt_slice = slice_pair[\"gt\"]\n",
        "\n",
        "img = input_slice\n",
        "label = gt_slice\n",
        "plt.imshow(img, cmap = 'gray')\n",
        "plt.show()"
      ],
      "execution_count": 147,
      "outputs": [
        {
          "output_type": "display_data",
          "data": {
            "image/png": "[encoded data removed]",
            "text/plain": [
              "<Figure size 576x576 with 1 Axes>"
            ]
          },
          "metadata": {
            "tags": [],
            "needs_background": "light"
          }
        }
      ]
    },
    {
      "cell_type": "code",
      "metadata": {
        "id": "DOlhfpUpBIAZ",
        "colab_type": "code",
        "colab": {}
      },
      "source": [
        "# import numpy as np\n",
        "# np.unique(label)  #ile wyróżnia nam klas"
      ],
      "execution_count": null,
      "outputs": []
    },
    {
      "cell_type": "markdown",
      "metadata": {
        "id": "PUBovd76gS17",
        "colab_type": "text"
      },
      "source": [
        "## Loading Libraries for performing segmentation using Deep Learning Techniques"
      ]
    },
    {
      "cell_type": "code",
      "metadata": {
        "id": "8rrKiP4CURtG",
        "colab_type": "code",
        "colab": {
          "base_uri": "https://localhost:8080/",
          "height": 34
        },
        "outputId": "846df8f2-7def-42cd-84bb-200bc5af0ef8"
      },
      "source": [
        "import torch\n",
        "import os\n",
        "import cv2\n",
        "import matplotlib.pyplot as plt\n",
        "import numpy as np\n",
        "import nibabel as nib\n",
        "import torchvision\n",
        "import torch.nn as nn\n",
        "import torch.optim as optim\n",
        "from torch.optim import lr_scheduler, Adam, SGD\n",
        "from torch.utils.data import Dataset, DataLoader\n",
        "from medicaltorch import datasets as mt_datasets\n",
        "from torch.autograd import Variable\n",
        "import torchvision\n",
        "from torchvision import datasets, models, transforms\n",
        "from medicaltorch import models as mt_models\n",
        "from keras.utils import to_categorical as cat\n",
        "device = torch.device('cuda' if torch.cuda.is_available() else 'cpu')\n",
        "device"
      ],
      "execution_count": 148,
      "outputs": [
        {
          "output_type": "execute_result",
          "data": {
            "text/plain": [
              "device(type='cuda')"
            ]
          },
          "metadata": {
            "tags": []
          },
          "execution_count": 148
        }
      ]
    },
    {
      "cell_type": "markdown",
      "metadata": {
        "id": "WJeN5PG0gZUH",
        "colab_type": "text"
      },
      "source": [
        "## Reading the data paths for processing and getting cases numbers in file_name variable"
      ]
    },
    {
      "cell_type": "code",
      "metadata": {
        "id": "Zc2HAc0GURpj",
        "colab_type": "code",
        "colab": {}
      },
      "source": [
        "import os\n",
        "train_path = \"/content/kits19/data/\"\n",
        "cases =  next(os.walk(train_path))\n",
        "file_name = cases[1]"
      ],
      "execution_count": 149,
      "outputs": []
    },
    {
      "cell_type": "markdown",
      "metadata": {
        "id": "uzIPBhX6gi6z",
        "colab_type": "text"
      },
      "source": [
        "## Splitting the data into training and validation"
      ]
    },
    {
      "cell_type": "code",
      "metadata": {
        "id": "gizt_CUg0hmc",
        "colab_type": "code",
        "colab": {}
      },
      "source": [
        "train_data = file_name[:240]\n",
        "validation_data = file_name[240:]"
      ],
      "execution_count": 150,
      "outputs": []
    },
    {
      "cell_type": "markdown",
      "metadata": {
        "id": "M_RmEcdPgnMv",
        "colab_type": "text"
      },
      "source": [
        "## Getting the model from pre build library"
      ]
    },
    {
      "cell_type": "code",
      "metadata": {
        "id": "sQcr4haCAUU3",
        "colab_type": "code",
        "colab": {}
      },
      "source": [
        "model = mt_models.Unet(drop_rate=0.4, bn_momentum=0.1)"
      ],
      "execution_count": 151,
      "outputs": []
    },
    {
      "cell_type": "code",
      "metadata": {
        "id": "1YrQ1c_kJj0g",
        "colab_type": "code",
        "colab": {
          "base_uri": "https://localhost:8080/",
          "height": 1000
        },
        "outputId": "8ad38787-aa5f-4da8-c777-2a4111ef9602"
      },
      "source": [
        "model"
      ],
      "execution_count": null,
      "outputs": [
        {
          "output_type": "execute_result",
          "data": {
            "text/plain": [
              "Unet(\n",
              "  (conv1): DownConv(\n",
              "    (conv1): Conv2d(1, 64, kernel_size=(3, 3), stride=(1, 1), padding=(1, 1))\n",
              "    (conv1_bn): BatchNorm2d(64, eps=1e-05, momentum=0.1, affine=True, track_running_stats=True)\n",
              "    (conv1_drop): Dropout2d(p=0.4, inplace=False)\n",
              "    (conv2): Conv2d(64, 64, kernel_size=(3, 3), stride=(1, 1), padding=(1, 1))\n",
              "    (conv2_bn): BatchNorm2d(64, eps=1e-05, momentum=0.1, affine=True, track_running_stats=True)\n",
              "    (conv2_drop): Dropout2d(p=0.4, inplace=False)\n",
              "  )\n",
              "  (mp1): MaxPool2d(kernel_size=2, stride=2, padding=0, dilation=1, ceil_mode=False)\n",
              "  (conv2): DownConv(\n",
              "    (conv1): Conv2d(64, 128, kernel_size=(3, 3), stride=(1, 1), padding=(1, 1))\n",
              "    (conv1_bn): BatchNorm2d(128, eps=1e-05, momentum=0.1, affine=True, track_running_stats=True)\n",
              "    (conv1_drop): Dropout2d(p=0.4, inplace=False)\n",
              "    (conv2): Conv2d(128, 128, kernel_size=(3, 3), stride=(1, 1), padding=(1, 1))\n",
              "    (conv2_bn): BatchNorm2d(128, eps=1e-05, momentum=0.1, affine=True, track_running_stats=True)\n",
              "    (conv2_drop): Dropout2d(p=0.4, inplace=False)\n",
              "  )\n",
              "  (mp2): MaxPool2d(kernel_size=2, stride=2, padding=0, dilation=1, ceil_mode=False)\n",
              "  (conv3): DownConv(\n",
              "    (conv1): Conv2d(128, 256, kernel_size=(3, 3), stride=(1, 1), padding=(1, 1))\n",
              "    (conv1_bn): BatchNorm2d(256, eps=1e-05, momentum=0.1, affine=True, track_running_stats=True)\n",
              "    (conv1_drop): Dropout2d(p=0.4, inplace=False)\n",
              "    (conv2): Conv2d(256, 256, kernel_size=(3, 3), stride=(1, 1), padding=(1, 1))\n",
              "    (conv2_bn): BatchNorm2d(256, eps=1e-05, momentum=0.1, affine=True, track_running_stats=True)\n",
              "    (conv2_drop): Dropout2d(p=0.4, inplace=False)\n",
              "  )\n",
              "  (mp3): MaxPool2d(kernel_size=2, stride=2, padding=0, dilation=1, ceil_mode=False)\n",
              "  (conv4): DownConv(\n",
              "    (conv1): Conv2d(256, 256, kernel_size=(3, 3), stride=(1, 1), padding=(1, 1))\n",
              "    (conv1_bn): BatchNorm2d(256, eps=1e-05, momentum=0.1, affine=True, track_running_stats=True)\n",
              "    (conv1_drop): Dropout2d(p=0.4, inplace=False)\n",
              "    (conv2): Conv2d(256, 256, kernel_size=(3, 3), stride=(1, 1), padding=(1, 1))\n",
              "    (conv2_bn): BatchNorm2d(256, eps=1e-05, momentum=0.1, affine=True, track_running_stats=True)\n",
              "    (conv2_drop): Dropout2d(p=0.4, inplace=False)\n",
              "  )\n",
              "  (up1): UpConv(\n",
              "    (up1): Upsample(scale_factor=2.0, mode=bilinear)\n",
              "    (downconv): DownConv(\n",
              "      (conv1): Conv2d(512, 256, kernel_size=(3, 3), stride=(1, 1), padding=(1, 1))\n",
              "      (conv1_bn): BatchNorm2d(256, eps=1e-05, momentum=0.1, affine=True, track_running_stats=True)\n",
              "      (conv1_drop): Dropout2d(p=0.4, inplace=False)\n",
              "      (conv2): Conv2d(256, 256, kernel_size=(3, 3), stride=(1, 1), padding=(1, 1))\n",
              "      (conv2_bn): BatchNorm2d(256, eps=1e-05, momentum=0.1, affine=True, track_running_stats=True)\n",
              "      (conv2_drop): Dropout2d(p=0.4, inplace=False)\n",
              "    )\n",
              "  )\n",
              "  (up2): UpConv(\n",
              "    (up1): Upsample(scale_factor=2.0, mode=bilinear)\n",
              "    (downconv): DownConv(\n",
              "      (conv1): Conv2d(384, 128, kernel_size=(3, 3), stride=(1, 1), padding=(1, 1))\n",
              "      (conv1_bn): BatchNorm2d(128, eps=1e-05, momentum=0.1, affine=True, track_running_stats=True)\n",
              "      (conv1_drop): Dropout2d(p=0.4, inplace=False)\n",
              "      (conv2): Conv2d(128, 128, kernel_size=(3, 3), stride=(1, 1), padding=(1, 1))\n",
              "      (conv2_bn): BatchNorm2d(128, eps=1e-05, momentum=0.1, affine=True, track_running_stats=True)\n",
              "      (conv2_drop): Dropout2d(p=0.4, inplace=False)\n",
              "    )\n",
              "  )\n",
              "  (up3): UpConv(\n",
              "    (up1): Upsample(scale_factor=2.0, mode=bilinear)\n",
              "    (downconv): DownConv(\n",
              "      (conv1): Conv2d(192, 64, kernel_size=(3, 3), stride=(1, 1), padding=(1, 1))\n",
              "      (conv1_bn): BatchNorm2d(64, eps=1e-05, momentum=0.1, affine=True, track_running_stats=True)\n",
              "      (conv1_drop): Dropout2d(p=0.4, inplace=False)\n",
              "      (conv2): Conv2d(64, 64, kernel_size=(3, 3), stride=(1, 1), padding=(1, 1))\n",
              "      (conv2_bn): BatchNorm2d(64, eps=1e-05, momentum=0.1, affine=True, track_running_stats=True)\n",
              "      (conv2_drop): Dropout2d(p=0.4, inplace=False)\n",
              "    )\n",
              "  )\n",
              "  (conv9): Conv2d(64, 1, kernel_size=(3, 3), stride=(1, 1), padding=(1, 1))\n",
              ")"
            ]
          },
          "metadata": {
            "tags": []
          },
          "execution_count": 12
        }
      ]
    },
    {
      "cell_type": "code",
      "metadata": {
        "id": "OP8Gm9aDAUL0",
        "colab_type": "code",
        "colab": {}
      },
      "source": [
        "def transform(img, lbl):\n",
        "  \n",
        "  img = img.astype(np.float32)\n",
        "  lbl = lbl.astype(np.float32)\n",
        "  img -= np.mean(img)\n",
        "  img /= 255.0\n",
        " \n",
        "    \n",
        "  return img, lbl"
      ],
      "execution_count": 152,
      "outputs": []
    },
    {
      "cell_type": "markdown",
      "metadata": {
        "id": "bWNhh1g1gsSO",
        "colab_type": "text"
      },
      "source": [
        "## Declaring classes to make their dataloaders"
      ]
    },
    {
      "cell_type": "code",
      "metadata": {
        "id": "m5bazMsFAUDh",
        "colab_type": "code",
        "colab": {}
      },
      "source": [
        "\n",
        "class TrainDataset(Dataset):\n",
        "    def __init__(self, df):\n",
        "        self.df = df\n",
        "        # self.transform = transform   \n",
        "        \n",
        "    def __len__(self):\n",
        "        return len(self.df)\n",
        "\n",
        "    def __getitem__(self, idx):\n",
        "        global img\n",
        "        global lbl\n",
        "        cases = train_data[idx]\n",
        "        file_path = train_path + cases +'/'\n",
        "        # print(file_path)\n",
        "        content = next(os.walk(file_path))\n",
        "        if 'segmentation.nii.gz' not in content[2]:\n",
        "          pass\n",
        "        else:\n",
        "          input_filename = file_path + content[2][-1]\n",
        "          gt_filename = file_path + content[2][0]\n",
        "          pair = mt_datasets.SegmentationPair2D(input_filename, gt_filename)\n",
        "          slice_pair = pair.get_pair_slice(175)\n",
        "          img = slice_pair[\"input\"]\n",
        "          label = slice_pair[\"gt\"]\n",
        "          img, lbl = transform(img, label)\n",
        "          img = np.resize(img, (224, 224))  \n",
        "          img = torch.from_numpy(img).unsqueeze_(0)\n",
        "          # print('Img shape:', img.shape)\n",
        "          lbl = np.resize(lbl, (224, 224))  \n",
        "          lbl = torch.from_numpy(lbl).unsqueeze_(0)\n",
        "          # print('Img shape:', img.shape)\n",
        "        return img, lbl \n"
      ],
      "execution_count": 153,
      "outputs": []
    },
    {
      "cell_type": "code",
      "metadata": {
        "id": "7h9rdtjPX2Fn",
        "colab_type": "code",
        "colab": {}
      },
      "source": [
        "\n",
        "class ValidDataset(Dataset):\n",
        "    def __init__(self, df):\n",
        "        self.df = df\n",
        "        # self.transform = transform\n",
        "        \n",
        "        \n",
        "    def __len__(self):\n",
        "        return len(self.df)\n",
        "\n",
        "    def __getitem__(self, idx):\n",
        "        global img\n",
        "        global lbl\n",
        "        cases = validation_data[idx]\n",
        "        file_path = train_path + cases +'/'\n",
        "        content = next(os.walk(file_path))\n",
        "        if 'segmentation.nii.gz' not in content[2]:\n",
        "          pass\n",
        "        else:\n",
        "          input_filename = file_path + content[2][-1]\n",
        "          gt_filename = file_path + content[2][0]\n",
        "          pair = mt_datasets.SegmentationPair2D(input_filename, gt_filename)\n",
        "          slice_pair = pair.get_pair_slice(175)\n",
        "          img = slice_pair[\"input\"]\n",
        "          label = slice_pair[\"gt\"]\n",
        "          img, lbl = transform(img, label)\n",
        "          img = np.resize(img, (224, 224))  \n",
        "          img = torch.from_numpy(img).unsqueeze_(0)\n",
        "          \n",
        "          lbl = np.resize(lbl, (224, 224))  \n",
        "          lbl = torch.from_numpy(lbl).unsqueeze_(0)\n",
        "          # print('Img shape:', img.shape)\n",
        "        return img, lbl \n",
        "  "
      ],
      "execution_count": 154,
      "outputs": []
    },
    {
      "cell_type": "markdown",
      "metadata": {
        "id": "sM4kVU0VgxxZ",
        "colab_type": "text"
      },
      "source": [
        "## From the dataloaders for further processing of data - data and label images both"
      ]
    },
    {
      "cell_type": "code",
      "metadata": {
        "id": "NYDWwYrIAT38",
        "colab_type": "code",
        "colab": {}
      },
      "source": [
        "train_dataset = TrainDataset(train_data) \n",
        "train_loader = DataLoader(train_dataset, batch_size=10, num_workers=0)\n",
        "\n",
        "valid_dataset = ValidDataset(validation_data) \n",
        "valid_loader = DataLoader(valid_dataset, batch_size=10, num_workers=0)"
      ],
      "execution_count": 155,
      "outputs": []
    },
    {
      "cell_type": "markdown",
      "metadata": {
        "id": "R2ScRE5fg6Wn",
        "colab_type": "text"
      },
      "source": [
        "## Loss function and changing optimizers "
      ]
    },
    {
      "cell_type": "code",
      "metadata": {
        "id": "0JftbdIbUPN4",
        "colab_type": "code",
        "colab": {}
      },
      "source": [
        "criterion = nn.BCEWithLogitsLoss()\n",
        "optimizer = optim.Adam(model.parameters(), lr=0.01)"
      ],
      "execution_count": 156,
      "outputs": []
    },
    {
      "cell_type": "markdown",
      "metadata": {
        "id": "Q4T9Ilehg_UT",
        "colab_type": "text"
      },
      "source": [
        "## Dice Loss Class"
      ]
    },
    {
      "cell_type": "code",
      "metadata": {
        "id": "0mXTFfWqz13T",
        "colab_type": "code",
        "colab": {}
      },
      "source": [
        "import torch\n",
        "from torch.autograd import Function\n",
        "\n",
        "\n",
        "class DiceCoeff(Function):\n",
        "    \n",
        "\n",
        "    def forward(self, input, target):\n",
        "        self.save_for_backward(input, target)\n",
        "        eps = 0.0001\n",
        "        self.inter = torch.dot(input.view(-1), target.view(-1))\n",
        "        self.union = torch.sum(input) + torch.sum(target) + eps\n",
        "\n",
        "        t = (2 * self.inter.float() + eps) / self.union.float()\n",
        "        return t\n",
        "\n",
        "    # This function has only a single output, so it gets only one gradient\n",
        "    def backward(self, grad_output):\n",
        "\n",
        "        input, target = self.saved_variables\n",
        "        grad_input = grad_target = None\n",
        "\n",
        "        if self.needs_input_grad[0]:\n",
        "            grad_input = grad_output * 2 * (target * self.union - self.inter) \\\n",
        "                         / (self.union * self.union)\n",
        "        if self.needs_input_grad[1]:\n",
        "            grad_target = None\n",
        "\n",
        "        return grad_input, grad_target\n",
        "\n",
        "\n",
        "def dice_coeff(input, target):\n",
        "    \"\"\"Dice coeff for batches\"\"\"\n",
        "    if input.is_cuda:\n",
        "        s = torch.FloatTensor(1).cuda().zero_()\n",
        "    else:\n",
        "        s = torch.FloatTensor(1).zero_()\n",
        "\n",
        "    for i, c in enumerate(zip(input, target)):\n",
        "        s = s + DiceCoeff().forward(c[0], c[1])\n",
        "\n",
        "    return s / (i + 1)"
      ],
      "execution_count": 157,
      "outputs": []
    },
    {
      "cell_type": "code",
      "metadata": {
        "id": "nbiUI-rTmfgE",
        "colab_type": "code",
        "colab": {}
      },
      "source": [
        "import pandas as pd"
      ],
      "execution_count": 167,
      "outputs": []
    },
    {
      "cell_type": "markdown",
      "metadata": {
        "id": "EEfNOizPhB4W",
        "colab_type": "text"
      },
      "source": [
        "#Starting training"
      ]
    },
    {
      "cell_type": "code",
      "metadata": {
        "id": "Rr48NKojWEvL",
        "colab_type": "code",
        "colab": {
          "base_uri": "https://localhost:8080/",
          "height": 609
        },
        "outputId": "1793cec1-9794-4144-e2bf-4faaf495221a"
      },
      "source": [
        "\n",
        "num_epochs = 15\n",
        "model.to(device)\n",
        "history = []\n",
        "\n",
        "for epoch in range(num_epochs): \n",
        "    train_loss_total = 0.0 \n",
        "    valid_loss_total = 0.0 \n",
        "    tot = 0\n",
        "    tot_train = 0\n",
        "    print('Epoch has started') \n",
        "      \n",
        "    for images, labels in iter(train_loader):\n",
        "      data = images.to(torch.float)\n",
        "      data = images.to(device)\n",
        "      label = labels.to(torch.float)\n",
        "      label = labels.to(device) \n",
        "      # print('step 1 check')\n",
        "      outputs = model(data)\n",
        "      # print('blablabla')\n",
        "      loss = criterion(outputs, label) \n",
        "      loss.backward() \n",
        "      # print('step 2 check')\n",
        "      optimizer.step() \n",
        "      pred = (outputs > 0.5).float()\n",
        "      tot_train += dice_coeff(pred, label).item()\n",
        "      train_loss_total  += loss.item()\n",
        "\n",
        "    for data, label in iter(valid_loader): \n",
        "      \n",
        "      data = data.to(torch.float)\n",
        "      data = data.to(device)\n",
        "      label = label.to(torch.float)\n",
        "      label = label.to(device) \n",
        "      outputs = model(data)\n",
        "      loss = criterion(outputs, label)\n",
        "      pred = (outputs > 0.5).float()\n",
        "      tot += dice_coeff(pred, label).item()\n",
        "      valid_loss_total  += loss.item()\n",
        " \n",
        "    train_loss_total_avg = train_loss_total / len(train_loader)\n",
        "    valid_loss_total_avg = valid_loss_total / len(valid_loader)\n",
        "    dice_train = tot_train/len(train_loader)\n",
        "    dice_valid = tot/len(valid_loader)\n",
        "\n",
        "    history.append([train_loss_total_avg, valid_loss_total_avg, dice_train, dice_valid]) \n",
        "    print('epoch number ', epoch, \"\t\t\",'Training loss value', train_loss_total_avg , \"\t\t\", 'Validation Loss Value', valid_loss_total_avg  \\\n",
        "          , \"\t\t\", 'Dice Loss for train is', dice_train, \"  \", 'Dice loss for validation is', dice_valid)\n",
        "    \n",
        "history = pd.DataFrame(history, columns=['train_loss', 'valid_loss', 'train_dice_loss', 'valid_dice_loss'])  "
      ],
      "execution_count": null,
      "outputs": [
        {
          "output_type": "stream",
          "text": [
            "Epoch has started\n"
          ],
          "name": "stdout"
        },
        {
          "output_type": "stream",
          "text": [
            "/usr/local/lib/python3.6/dist-packages/torch/nn/functional.py:2973: UserWarning: Default upsampling behavior when mode=bilinear is changed to align_corners=False since 0.4.0. Please specify align_corners=True if the old behavior is desired. See the documentation of nn.Upsample for details.\n",
            "  \"See the documentation of nn.Upsample for details.\".format(mode))\n",
            "/usr/local/lib/python3.6/dist-packages/torch/nn/functional.py:1569: UserWarning: nn.functional.sigmoid is deprecated. Use torch.sigmoid instead.\n",
            "  warnings.warn(\"nn.functional.sigmoid is deprecated. Use torch.sigmoid instead.\")\n"
          ],
          "name": "stderr"
        },
        {
          "output_type": "stream",
          "text": [
            "epoch number  0 \t\t Training loss value 97.42293039957683 \t\t Validation Loss Value 35.82359663645426 \t\t Dice Loss for train is 0.45428650081157684    Dice loss for validation is 0.17803882931669554\n",
            "Epoch has started\n",
            "epoch number  1 \t\t Training loss value 22.02401642004649 \t\t Validation Loss Value 12.038220723470053 \t\t Dice Loss for train is 0.10927315211544435    Dice loss for validation is 0.058561310172080994\n",
            "Epoch has started\n",
            "epoch number  2 \t\t Training loss value 9.127446313699087 \t\t Validation Loss Value 7.313735564549764 \t\t Dice Loss for train is 0.04480472672730684    Dice loss for validation is 0.0319401357943813\n",
            "Epoch has started\n",
            "epoch number  3 \t\t Training loss value 5.285116513570149 \t\t Validation Loss Value 3.6326029698053994 \t\t Dice Loss for train is 0.02495995971063773    Dice loss for validation is 0.015113844148193797\n",
            "Epoch has started\n",
            "epoch number  4 \t\t Training loss value 2.8690194164713225 \t\t Validation Loss Value 1.7024653156598408 \t\t Dice Loss for train is 0.010462781516253017    Dice loss for validation is 0.005062556572477265\n",
            "Epoch has started\n",
            "epoch number  5 \t\t Training loss value 1.0917747765779495 \t\t Validation Loss Value 0.6931471824645996 \t\t Dice Loss for train is 0.002032592837428099    Dice loss for validation is -4.883194109489564e-12\n",
            "Epoch has started\n",
            "epoch number  6 \t\t Training loss value 0.6931471824645996 \t\t Validation Loss Value 0.6931471824645996 \t\t Dice Loss for train is -5.4729591988297394e-12    Dice loss for validation is -4.883194109489564e-12\n",
            "Epoch has started\n",
            "epoch number  7 \t\t Training loss value 0.6931471824645996 \t\t Validation Loss Value 0.6931471824645996 \t\t Dice Loss for train is -5.4729591988297394e-12    Dice loss for validation is -4.883194109489564e-12\n",
            "Epoch has started\n",
            "epoch number  8 \t\t Training loss value 0.6931471824645996 \t\t Validation Loss Value 0.6931471824645996 \t\t Dice Loss for train is -5.4729591988297394e-12    Dice loss for validation is -4.883194109489564e-12\n",
            "Epoch has started\n",
            "epoch number  9 \t\t Training loss value 0.6931471824645996 \t\t Validation Loss Value 0.6931471824645996 \t\t Dice Loss for train is -5.4729591988297394e-12    Dice loss for validation is -4.883194109489564e-12\n",
            "Epoch has started\n",
            "epoch number  10 \t\t Training loss value 0.6931471824645996 \t\t Validation Loss Value 0.6931471824645996 \t\t Dice Loss for train is -5.4729591988297394e-12    Dice loss for validation is -4.883194109489564e-12\n",
            "Epoch has started\n",
            "epoch number  11 \t\t Training loss value 0.6931471824645996 \t\t Validation Loss Value 0.6931471824645996 \t\t Dice Loss for train is -5.4729591988297394e-12    Dice loss for validation is -4.883194109489564e-12\n",
            "Epoch has started\n",
            "epoch number  12 \t\t Training loss value 0.6931471824645996 \t\t Validation Loss Value 0.6931471824645996 \t\t Dice Loss for train is -5.4729591988297394e-12    Dice loss for validation is -4.883194109489564e-12\n",
            "Epoch has started\n",
            "epoch number  13 \t\t Training loss value 0.6933232819040617 \t\t Validation Loss Value 0.6931471824645996 \t\t Dice Loss for train is 8.890962884115363e-07    Dice loss for validation is -4.883194109489564e-12\n",
            "Epoch has started\n"
          ],
          "name": "stdout"
        }
      ]
    },
    {
      "cell_type": "code",
      "metadata": {
        "id": "paIhGfLRG0N2",
        "colab_type": "code",
        "colab": {
          "base_uri": "https://localhost:8080/",
          "height": 658
        },
        "outputId": "2029152f-5297-4eda-8eb4-1ae931eb8b95"
      },
      "source": [
        "pip install fig"
      ],
      "execution_count": null,
      "outputs": [
        {
          "output_type": "stream",
          "text": [
            "Collecting fig\n",
            "  Downloading https://files.pythonhosted.org/packages/2f/5c/e11c6b0e0a452b049e082de33a59ec57d513fac7863966610386da0c1cec/fig-1.0.1.tar.gz\n",
            "Requirement already satisfied: docopt<0.7,>=0.6.1 in /usr/local/lib/python3.6/dist-packages (from fig) (0.6.2)\n",
            "Requirement already satisfied: PyYAML<4,>=3.10 in /usr/local/lib/python3.6/dist-packages (from fig) (3.13)\n",
            "Requirement already satisfied: requests<3,>=2.2.1 in /usr/local/lib/python3.6/dist-packages (from fig) (2.23.0)\n",
            "Collecting texttable<0.9,>=0.8.1\n",
            "  Downloading https://files.pythonhosted.org/packages/74/49/23d944a6f7d4dd20846b2df2914fe108c96a253567c140c416edbf270f80/texttable-0.8.8.tar.gz\n",
            "Collecting websocket-client<0.12,>=0.11.0\n",
            "  Downloading https://files.pythonhosted.org/packages/56/07/a2c49df4dedf58643db8adb7262732f692c2967fb56223c3fae30db48701/websocket-client-0.11.0.tar.gz\n",
            "Collecting docker-py<0.6,>=0.5.3\n",
            "  Downloading https://files.pythonhosted.org/packages/c7/d7/5768d0f88f2aac8c3ead272161cb55bc98af9af1f49bc5c888bc1164775b/docker-py-0.5.3.tar.gz\n",
            "Collecting dockerpty<0.4,>=0.3.2\n",
            "  Downloading https://files.pythonhosted.org/packages/b9/7e/e718489d6e40dc4bad445d2eb96f7860f4db7b9d84afba44e3f56408aac8/dockerpty-0.3.4.tar.gz\n",
            "Requirement already satisfied: six<2,>=1.3.0 in /usr/local/lib/python3.6/dist-packages (from fig) (1.12.0)\n",
            "Requirement already satisfied: idna<3,>=2.5 in /usr/local/lib/python3.6/dist-packages (from requests<3,>=2.2.1->fig) (2.9)\n",
            "Requirement already satisfied: chardet<4,>=3.0.2 in /usr/local/lib/python3.6/dist-packages (from requests<3,>=2.2.1->fig) (3.0.4)\n",
            "Requirement already satisfied: certifi>=2017.4.17 in /usr/local/lib/python3.6/dist-packages (from requests<3,>=2.2.1->fig) (2020.4.5.2)\n",
            "Requirement already satisfied: urllib3!=1.25.0,!=1.25.1,<1.26,>=1.21.1 in /usr/local/lib/python3.6/dist-packages (from requests<3,>=2.2.1->fig) (1.24.3)\n",
            "Building wheels for collected packages: fig, texttable, websocket-client, docker-py, dockerpty\n",
            "  Building wheel for fig (setup.py) ... \u001b[?25l\u001b[?25hdone\n",
            "  Created wheel for fig: filename=fig-1.0.1-cp36-none-any.whl size=27866 sha256=b2f87a5f6714c7f4636cf6fa95eae7b87e0dcd71fff030188fe0a067bf20bd45\n",
            "  Stored in directory: /root/.cache/pip/wheels/0e/64/6e/60fbf4bc95e494ed8202c7ba6a75f2c7f25d0c99a8099100c2\n",
            "  Building wheel for texttable (setup.py) ... \u001b[?25l\u001b[?25hdone\n",
            "  Created wheel for texttable: filename=texttable-0.8.8-cp36-none-any.whl size=9808 sha256=bf92f4bea6742ff6ecddf398dfe84fac9b63fe8492167bcd01119860bdffe2c9\n",
            "  Stored in directory: /root/.cache/pip/wheels/e6/50/66/cffbd36db351677a36e03cc8f071e519cbf6a907ef9bad117d\n",
            "  Building wheel for websocket-client (setup.py) ... \u001b[?25l\u001b[?25hdone\n",
            "  Created wheel for websocket-client: filename=websocket_client-0.11.0-cp36-none-any.whl size=20757 sha256=affb16c01c953e86eae8177cc8557d74575a2171dca6e0708ee771fde2f4afb5\n",
            "  Stored in directory: /root/.cache/pip/wheels/f8/22/57/eaf44bf4af4cf2b26f7bfd6dfa488cb0025adcd4007033bd01\n",
            "  Building wheel for docker-py (setup.py) ... \u001b[?25l\u001b[?25hdone\n",
            "  Created wheel for docker-py: filename=docker_py-0.5.3-cp36-none-any.whl size=23865 sha256=784ff2f2cfd8ff2d16f5d2d0d8ad320fc4d88ae0f267dd0f94d42b0f08e6151d\n",
            "  Stored in directory: /root/.cache/pip/wheels/98/27/c4/8e630281f3316075d47ab21376b943edfadb41897855f23d2c\n",
            "  Building wheel for dockerpty (setup.py) ... \u001b[?25l\u001b[?25hdone\n",
            "  Created wheel for dockerpty: filename=dockerpty-0.3.4-cp36-none-any.whl size=15678 sha256=55623d62a355f201ea64bb0b09ad288ff47201adf96dbb5b397bcb4f2a6682b4\n",
            "  Stored in directory: /root/.cache/pip/wheels/21/20/29/ac6e8d48f9ebb7703fb326fa8e9f55773555f82d4ae94d7370\n",
            "Successfully built fig texttable websocket-client docker-py dockerpty\n",
            "Installing collected packages: texttable, websocket-client, docker-py, dockerpty, fig\n",
            "Successfully installed docker-py-0.5.3 dockerpty-0.3.4 fig-1.0.1 texttable-0.8.8 websocket-client-0.11.0\n"
          ],
          "name": "stdout"
        }
      ]
    },
    {
      "cell_type": "markdown",
      "metadata": {
        "id": "AQl9jNhPhGgs",
        "colab_type": "text"
      },
      "source": [
        "## Getting curves for both losses"
      ]
    },
    {
      "cell_type": "code",
      "metadata": {
        "id": "A1yiOWSPeNPF",
        "colab_type": "code",
        "colab": {}
      },
      "source": [
        "\n",
        "plt.figure(figsize=(8, 6))\n",
        "for c in ['train_loss', 'valid_loss']:\n",
        "    plt.plot(\n",
        "        history[c], label=c)\n",
        "plt.legend()\n",
        "plt.xlabel('Epoch')\n",
        "plt.ylabel('Average Negative Log Likelihood')\n",
        "plt.title('Training and Validation Losses')\n",
        "\n",
        "plt.figure(figsize=(8, 6))\n",
        "for c in ['train_dice_loss', 'valid_dice_loss']:\n",
        "    plt.plot(100 * history[c], label=c)\n",
        "plt.legend()\n",
        "plt.xlabel('Epoch')\n",
        "plt.ylabel('Average Accuracy')\n",
        "plt.title('Training and Validation Accuracy')\n"
      ],
      "execution_count": null,
      "outputs": []
    },
    {
      "cell_type": "code",
      "metadata": {
        "id": "bqBg0RHNLnKC",
        "colab_type": "code",
        "colab": {}
      },
      "source": [
        "import matplotlib.pyplot as pyplot\n",
        "import tensorflow as tf\n",
        "\n"
      ],
      "execution_count": null,
      "outputs": []
    },
    {
      "cell_type": "code",
      "metadata": {
        "id": "y-AfZT5cmehw",
        "colab_type": "code",
        "colab": {
          "base_uri": "https://localhost:8080/",
          "height": 393
        },
        "outputId": "6e9d9293-f07d-4965-c660-9ca37f03b50b"
      },
      "source": [
        "#pyplot.subplot(1, 3, 1) # have two plots in 1 row two columns, first plot\n",
        "# assuming im is batch x channel x h x w and channel is RGB\n",
        "im, mask = next(iter(valid_loader))\n",
        "\n",
        "\n",
        "im = im.cuda()\n",
        "mask = mask.cuda()\n",
        "\n",
        " \n",
        "\n",
        "\n",
        "pred = model(im)\n",
        "plt.figure(figsize=(20,20))\n",
        "\n",
        "plt.subplot(1,4,1)\n",
        "#plt.imshow(tf.keras.preprocessing.image.array_to_img(outputs[0,0,:,:]))\n",
        "plt.imshow(outputs[0,0,:,:].detach().cpu().squeeze(), cmap = 'gray' )\n",
        "plt.title('output')\n",
        "plt.subplot(1, 4, 2)\n",
        "plt.imshow(torch.exp(pred[0].detach().cpu().squeeze()), cmap='gray')\n",
        "plt.title('DL prediction')\n",
        "plt.subplot(1, 4, 3)\n",
        "#plt.imshow(tf.keras.preprocessing.image.array_to_img(mask[0,0,:,:]))\n",
        "plt.imshow(torch.exp(mask[0].detach().cpu().squeeze()), cmap='gray')\n",
        "plt.title('ground truth')\n",
        "\n",
        "\n",
        "#pyplot.plot(im[0].detach().cpu().permute(1, 3, 0))\n",
        "#pyplot.subplot(1, 3, 2)\n",
        "#pyplot.plot(mask[0].detach().cpu())\n",
        "#pyplot.subplot(1, 3, 3) # third plot\n",
        "#pyplot.plot(pred[0].detach().cpu())"
      ],
      "execution_count": null,
      "outputs": [
        {
          "output_type": "stream",
          "text": [
            "/usr/local/lib/python3.6/dist-packages/torch/nn/functional.py:2973: UserWarning: Default upsampling behavior when mode=bilinear is changed to align_corners=False since 0.4.0. Please specify align_corners=True if the old behavior is desired. See the documentation of nn.Upsample for details.\n",
            "  \"See the documentation of nn.Upsample for details.\".format(mode))\n",
            "/usr/local/lib/python3.6/dist-packages/torch/nn/functional.py:1569: UserWarning: nn.functional.sigmoid is deprecated. Use torch.sigmoid instead.\n",
            "  warnings.warn(\"nn.functional.sigmoid is deprecated. Use torch.sigmoid instead.\")\n"
          ],
          "name": "stderr"
        },
        {
          "output_type": "execute_result",
          "data": {
            "text/plain": [
              "Text(0.5, 1.0, 'ground truth')"
            ]
          },
          "metadata": {
            "tags": []
          },
          "execution_count": 138
        },
        {
          "output_type": "display_data",
          "data": {
            "image/png": "[encoded data removed]",
            "text/plain": [
              "<Figure size 1440x1440 with 3 Axes>"
            ]
          },
          "metadata": {
            "tags": [],
            "needs_background": "light"
          }
        }
      ]
    },
    {
      "cell_type": "markdown",
      "metadata": {
        "id": "Hsc9V0kU2KLu",
        "colab_type": "text"
      },
      "source": [
        ""
      ]
    }
  ]
}